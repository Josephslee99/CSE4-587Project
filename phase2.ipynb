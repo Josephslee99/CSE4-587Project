{
 "cells": [
  {
   "cell_type": "markdown",
   "metadata": {},
   "source": [
    "# DIC4/587: Phase 2\n",
    "*Contributors: Seungmin Lee, David Huang*\n",
    "\n",
    "---\n",
    "## Deliverables\n",
    "\n",
    "1. Algorithms/Visualizations: Apply 5 different significant and relevant\n",
    "algorithms (ML, MR, and/or statistical models) to your data and create visualizations for\n",
    "the results. \n",
    "    - For 487 students: at least 1 of the 5 algorithms must be one that was not\n",
    "discussed in class. \n",
    "    - For 587 students: at least 2 must be from outside of class. \n",
    "    - These outside algorithms can come from the class textbooks, or other sources. Cite the appropriate sources for each outside algorithm you choose to apply.\n",
    "2. Explanation and Analysis: For each of the 5 above algorithms, provide\n",
    "justification for why you chose the particular algorithm, and discuss the effectiveness of\n",
    "the algorithm when applied to your data to answer questions related to your problem\n",
    "statement. \n",
    "    - This should include discussion of any relevant metrics for demonstrating\n",
    "model effectiveness, as well as any intelligence you were able to gain from application of\n",
    "the algorithm to your data.\n"
   ]
  },
  {
   "cell_type": "markdown",
   "metadata": {},
   "source": [
    "## Ideas\n",
    "- Incorperating word count into Naive Bayes Classification for description of what the permits were used for (ex. swimming pool reno)\n",
    "- Log Regression"
   ]
  },
  {
   "cell_type": "markdown",
   "metadata": {},
   "source": []
  }
 ],
 "metadata": {
  "kernelspec": {
   "display_name": "Python 3.10.8 64-bit (microsoft store)",
   "language": "python",
   "name": "python3"
  },
  "language_info": {
   "name": "python",
   "version": "3.10.8"
  },
  "orig_nbformat": 4,
  "vscode": {
   "interpreter": {
    "hash": "5649a8488d225c29af94cb2e57de0faed6ba0e1c9960bb449a073700f446d8ba"
   }
  }
 },
 "nbformat": 4,
 "nbformat_minor": 2
}
