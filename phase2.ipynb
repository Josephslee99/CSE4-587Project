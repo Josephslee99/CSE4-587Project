{
 "cells": [
  {
   "cell_type": "markdown",
   "metadata": {},
   "source": [
    "# DIC4/587: Phase 2\n",
    "*Contributors: Seungmin Lee, David Huang*\n",
    "\n",
    "---\n",
    "## Deliverables\n",
    "\n",
    "1. Algorithms/Visualizations: Apply 5 different significant and relevant\n",
    "algorithms (ML, MR, and/or statistical models) to your data and create visualizations for\n",
    "the results. \n",
    "    - For 487 students: at least 1 of the 5 algorithms must be one that was not\n",
    "discussed in class. \n",
    "    - For 587 students: at least 2 must be from outside of class. \n",
    "    - These outside algorithms can come from the class textbooks, or other sources. Cite the appropriate sources for each outside algorithm you choose to apply.\n",
    "2. Explanation and Analysis: For each of the 5 above algorithms, provide\n",
    "justification for why you chose the particular algorithm, and discuss the effectiveness of\n",
    "the algorithm when applied to your data to answer questions related to your problem\n",
    "statement. \n",
    "    - This should include discussion of any relevant metrics for demonstrating\n",
    "model effectiveness, as well as any intelligence you were able to gain from application of\n",
    "the algorithm to your data.\n"
   ]
  },
  {
   "cell_type": "markdown",
   "metadata": {},
   "source": [
    "## Ideas\n",
    "- Incorperating word count into Naive Bayes Classification for description of what the permits were used for (ex. swimming pool reno)\n",
    "- Log Regression"
   ]
  },
  {
   "cell_type": "markdown",
   "metadata": {},
   "source": [
    "*Note: Disregarding driveway/sidewalks*"
   ]
  },
  {
   "cell_type": "code",
   "execution_count": 1,
   "metadata": {},
   "outputs": [],
   "source": [
    "import matplotlib.pyplot as plt\n",
    "import numpy as np\n",
    "import pandas as pd\n",
    "import re\n",
    "from collections import Counter"
   ]
  },
  {
   "cell_type": "code",
   "execution_count": 2,
   "metadata": {},
   "outputs": [
    {
     "data": {
      "text/plain": [
       "(55976, 61)"
      ]
     },
     "execution_count": 2,
     "metadata": {},
     "output_type": "execute_result"
    }
   ],
   "source": [
    "data = pd.read_csv('Dataset/ICP_Residential_Austin2017up.csv')\n",
    "data.shape"
   ]
  },
  {
   "cell_type": "code",
   "execution_count": 3,
   "metadata": {},
   "outputs": [],
   "source": [
    "buildData = data[data['Permit Type Desc']==\"Building Permit\"]\n",
    "mechData = data[data['Permit Type Desc']==\"Mechanical Permit\"]\n",
    "plumbData = data[data['Permit Type Desc']==\"Plumbing Permit\"]\n",
    "elecData = data[data['Permit Type Desc']==\"Electrical Permit\"]"
   ]
  },
  {
   "cell_type": "code",
   "execution_count": 4,
   "metadata": {},
   "outputs": [],
   "source": [
    "'''\n",
    "Word Count Function\n",
    "Input: text -> String\n",
    "Output: Counter[String -> Int]\n",
    "Returns a dictionary containing word counts\n",
    "'''\n",
    "def wc(text):\n",
    "    words = re.findall(\"[a-z']+\", text.lower().replace(\"<br />\", \"\"))\n",
    "    return Counter(words)"
   ]
  },
  {
   "cell_type": "code",
   "execution_count": null,
   "metadata": {},
   "outputs": [],
   "source": []
  }
 ],
 "metadata": {
  "kernelspec": {
   "display_name": "Python 3.9.7 ('base')",
   "language": "python",
   "name": "python3"
  },
  "language_info": {
   "codemirror_mode": {
    "name": "ipython",
    "version": 3
   },
   "file_extension": ".py",
   "mimetype": "text/x-python",
   "name": "python",
   "nbconvert_exporter": "python",
   "pygments_lexer": "ipython3",
   "version": "3.9.7"
  },
  "orig_nbformat": 4,
  "vscode": {
   "interpreter": {
    "hash": "d23624b13311fb1af1c90e93df5b4884b185f1d04f2264343d59e90a86c3d0b7"
   }
  }
 },
 "nbformat": 4,
 "nbformat_minor": 2
}
