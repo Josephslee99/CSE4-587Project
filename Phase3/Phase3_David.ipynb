{
 "cells": [
  {
   "cell_type": "markdown",
   "metadata": {},
   "source": [
    "In Phase 3, you will be building a data product from your Phase 2 models which would allow a user to interact with your models to gain insight into the data/problem statement you set out to solve. This could be as simple as allowing a user to input their own dataset for automatic analysis, or something more complicated tailored to your particular problem domain. The deliverables for Phase 3 will include your entire project code and documentation, as well as a short demo video showing your completed product.\n",
    "\n",
    "This phase involves building a data product that automates and parameterizes the process you established in Phases 1 and 2. This could be a web-application, mobile app, or enterprise application to allow users /clients to interact with it. Deliverables will include the code for your entire project, including the data product, complete with documentation, as well as a demo video showing off the product.\n",
    " \n",
    "1. Code [25 marks]: In your submission you must include complete code for Phases 1-3, fully documented, and with clear and succinct instructions on how to run your code with different datasets. The report should contain any relevant notes on how your models are tuned/evaluated (ie: p value is 0.0006 etc), and any recommendations related to your problem statement based on your analysis. \n",
    "    - [5 marks] for fully documented code and working instructions to demo/use your finished product \n",
    "    - [10 marks] for relevant notes on how you specifically used the models from phase 2 (which models did your product end up using, tuning of any relevant parameters, etc) \n",
    "    - [10 marks] for recommendations related to your problem statement based on your analysis (what can users learn from your product, how does it help them solve problems related to your problem statement, other ideas for how to extend your project, or other avenues that could be explored related to the problem) \n",
    "\n",
    "\n",
    "2. Demo [25 marks]: In addition to your code, submit a short video pitch/presentation (no more than 5 minutes in length), giving a brief demo of your product, how it is used, and what information people can learn from it. \n",
    "    - [5 points] for showing a working user-interface (not just code you would expect a user to run) \n",
    "    - [5 points] for showing how a user could input their own data (uploading their own datasets, filling out fields in your GUI, etc) \n",
    "    - [15 points] for showing the feedback your product gives, explaining what it means, relevant manipulation/filtering of visualizations, and how a user could use it to help them solve a problem/answer a question."
   ]
  },
  {
   "cell_type": "markdown",
   "metadata": {},
   "source": [
    "Professors Remarks:\n",
    "The demo video should show how your product looks and works, show off a few examples of use, and discuss how the feedback that your product gives to the user would be useful/relevant to their needs.\n",
    "\n",
    "The product itself should be interactive and targeted at the needs of users in your domain and address in some way your initial problem statement. Trying to predict whether a given patient has a certain disease? Allow a health professional to enter observations about a patient, and have your product give them some sort of feedback about the likelihood that the patient in question has the disease, perhaps some extra information about factors that have the strongest impact on this prediction etc. Trying to determine how many appointments for a given schedule will actually be kept? Allow a user to upload a schedule of upcoming appointments and give them a report on how many of said appointments your model predicts will actually show, etc.\n",
    "\n",
    "Yes, there are a few questions that the description outlines that must be answered: Specifically which models does your product use and how are they configured, what analysis does your product do, how could that information be used to aid in decision making/problem solving in your particular domain, etc. (along with instructions on how we can reproduce your demo as needed)"
   ]
  },
  {
   "cell_type": "markdown",
   "metadata": {},
   "source": [
    "https://www.freecodecamp.org/news/machine-learning-web-app-with-flask/"
   ]
  },
  {
   "cell_type": "markdown",
   "metadata": {},
   "source": [
    "- https://pythonbasics.org/what-is-flask-python/\n",
    "- https://www.askpython.com/python-modules/flask/flask-forms\n",
    "- https://pythongeeks.org/python-flask-introduction/ \n",
    "https://stackoverflow.com/questions/54448545/passing-information-from-one-route-to-another-flask-ignoring-redirect-requests\n",
    "- "
   ]
  },
  {
   "cell_type": "code",
   "execution_count": 1,
   "metadata": {},
   "outputs": [],
   "source": [
    "from flask import Flask\n",
    "from flask import render_template, request, url_for, redirect\n",
    "import numpy as np\n",
    "import pickle\n",
    "import pandas as pd"
   ]
  },
  {
   "cell_type": "code",
   "execution_count": 2,
   "metadata": {},
   "outputs": [],
   "source": [
    "# Different methods for internal functioning\n",
    "def plotting_users_data(totalSQFT, var1, var2, var3, var4, var5, var6):\n",
    "    \n",
    "\n",
    "\n",
    "\n",
    "    return 0"
   ]
  },
  {
   "cell_type": "code",
   "execution_count": 2,
   "metadata": {},
   "outputs": [
    {
     "name": "stdout",
     "output_type": "stream",
     "text": [
      " * Serving Flask app '__main__'\n",
      " * Debug mode: off\n"
     ]
    },
    {
     "name": "stderr",
     "output_type": "stream",
     "text": [
      "WARNING: This is a development server. Do not use it in a production deployment. Use a production WSGI server instead.\n",
      " * Running on http://127.0.0.1:5000\n",
      "Press CTRL+C to quit\n",
      "127.0.0.1 - - [01/Dec/2022 22:57:52] \"GET / HTTP/1.1\" 200 -\n",
      "127.0.0.1 - - [01/Dec/2022 22:57:52] \"GET /static/format.css HTTP/1.1\" 304 -\n"
     ]
    },
    {
     "name": "stdout",
     "output_type": "stream",
     "text": [
      "Get Method for Hello World\n",
      "Post Method for Prediction\n",
      "Everything should be created\n"
     ]
    },
    {
     "name": "stderr",
     "output_type": "stream",
     "text": [
      "127.0.0.1 - - [01/Dec/2022 22:58:01] \"POST /prediction/ HTTP/1.1\" 200 -\n",
      "127.0.0.1 - - [01/Dec/2022 22:58:01] \"GET /static/prediction.css HTTP/1.1\" 304 -\n",
      "127.0.0.1 - - [01/Dec/2022 22:58:09] \"POST / HTTP/1.1\" 200 -\n",
      "127.0.0.1 - - [01/Dec/2022 22:58:09] \"GET /static/format.css HTTP/1.1\" 304 -\n"
     ]
    },
    {
     "name": "stdout",
     "output_type": "stream",
     "text": [
      "Post Method for Hello World\n"
     ]
    },
    {
     "name": "stderr",
     "output_type": "stream",
     "text": [
      "127.0.0.1 - - [01/Dec/2022 22:59:56] \"POST / HTTP/1.1\" 200 -\n",
      "127.0.0.1 - - [01/Dec/2022 22:59:56] \"GET /static/format.css HTTP/1.1\" 200 -\n"
     ]
    },
    {
     "name": "stdout",
     "output_type": "stream",
     "text": [
      "Post Method for Hello World\n"
     ]
    },
    {
     "name": "stderr",
     "output_type": "stream",
     "text": [
      "127.0.0.1 - - [01/Dec/2022 23:00:08] \"POST / HTTP/1.1\" 200 -\n",
      "127.0.0.1 - - [01/Dec/2022 23:00:08] \"GET /static/format.css HTTP/1.1\" 200 -\n"
     ]
    },
    {
     "name": "stdout",
     "output_type": "stream",
     "text": [
      "Post Method for Hello World\n"
     ]
    },
    {
     "name": "stderr",
     "output_type": "stream",
     "text": [
      "127.0.0.1 - - [01/Dec/2022 23:00:18] \"POST / HTTP/1.1\" 200 -\n",
      "127.0.0.1 - - [01/Dec/2022 23:00:18] \"GET /static/format.css HTTP/1.1\" 200 -\n"
     ]
    },
    {
     "name": "stdout",
     "output_type": "stream",
     "text": [
      "Post Method for Hello World\n"
     ]
    },
    {
     "name": "stderr",
     "output_type": "stream",
     "text": [
      "127.0.0.1 - - [01/Dec/2022 23:00:45] \"POST /prediction/ HTTP/1.1\" 200 -\n",
      "127.0.0.1 - - [01/Dec/2022 23:00:45] \"GET /static/prediction.css HTTP/1.1\" 304 -\n"
     ]
    },
    {
     "name": "stdout",
     "output_type": "stream",
     "text": [
      "Post Method for Prediction\n",
      "Everything should be created\n"
     ]
    },
    {
     "name": "stderr",
     "output_type": "stream",
     "text": [
      "127.0.0.1 - - [01/Dec/2022 23:00:54] \"POST / HTTP/1.1\" 200 -\n",
      "127.0.0.1 - - [01/Dec/2022 23:00:54] \"GET /static/format.css HTTP/1.1\" 304 -\n"
     ]
    },
    {
     "name": "stdout",
     "output_type": "stream",
     "text": [
      "Post Method for Hello World\n"
     ]
    },
    {
     "name": "stderr",
     "output_type": "stream",
     "text": [
      "127.0.0.1 - - [01/Dec/2022 23:02:16] \"POST / HTTP/1.1\" 200 -\n",
      "127.0.0.1 - - [01/Dec/2022 23:02:16] \"GET /static/format.css HTTP/1.1\" 304 -\n"
     ]
    },
    {
     "name": "stdout",
     "output_type": "stream",
     "text": [
      "Post Method for Hello World\n"
     ]
    },
    {
     "name": "stderr",
     "output_type": "stream",
     "text": [
      "127.0.0.1 - - [01/Dec/2022 23:02:52] \"POST /prediction/ HTTP/1.1\" 200 -\n",
      "127.0.0.1 - - [01/Dec/2022 23:02:52] \"GET /static/prediction.css HTTP/1.1\" 304 -\n"
     ]
    },
    {
     "name": "stdout",
     "output_type": "stream",
     "text": [
      "Post Method for Prediction\n",
      "Everything should be created\n"
     ]
    },
    {
     "name": "stderr",
     "output_type": "stream",
     "text": [
      "127.0.0.1 - - [01/Dec/2022 23:03:00] \"POST / HTTP/1.1\" 200 -\n",
      "127.0.0.1 - - [01/Dec/2022 23:03:00] \"GET /static/format.css HTTP/1.1\" 304 -\n"
     ]
    },
    {
     "name": "stdout",
     "output_type": "stream",
     "text": [
      "Post Method for Hello World\n"
     ]
    },
    {
     "name": "stderr",
     "output_type": "stream",
     "text": [
      "127.0.0.1 - - [01/Dec/2022 23:07:01] \"POST / HTTP/1.1\" 200 -\n",
      "127.0.0.1 - - [01/Dec/2022 23:07:01] \"GET /static/format.css HTTP/1.1\" 304 -\n"
     ]
    },
    {
     "name": "stdout",
     "output_type": "stream",
     "text": [
      "Post Method for Hello World\n"
     ]
    },
    {
     "name": "stderr",
     "output_type": "stream",
     "text": [
      "127.0.0.1 - - [01/Dec/2022 23:07:06] \"POST /prediction/ HTTP/1.1\" 200 -\n",
      "127.0.0.1 - - [01/Dec/2022 23:07:06] \"GET /static/prediction.css HTTP/1.1\" 200 -\n"
     ]
    },
    {
     "name": "stdout",
     "output_type": "stream",
     "text": [
      "Post Method for Prediction\n",
      "Everything should be created\n"
     ]
    },
    {
     "name": "stderr",
     "output_type": "stream",
     "text": [
      "127.0.0.1 - - [01/Dec/2022 23:07:56] \"POST /prediction/ HTTP/1.1\" 200 -\n",
      "127.0.0.1 - - [01/Dec/2022 23:07:56] \"GET /static/prediction.css HTTP/1.1\" 200 -\n"
     ]
    },
    {
     "name": "stdout",
     "output_type": "stream",
     "text": [
      "Post Method for Prediction\n",
      "Everything should be created\n"
     ]
    },
    {
     "name": "stderr",
     "output_type": "stream",
     "text": [
      "127.0.0.1 - - [01/Dec/2022 23:08:00] \"POST /prediction/ HTTP/1.1\" 200 -\n",
      "127.0.0.1 - - [01/Dec/2022 23:08:00] \"GET /static/prediction.css HTTP/1.1\" 304 -\n"
     ]
    },
    {
     "name": "stdout",
     "output_type": "stream",
     "text": [
      "Post Method for Prediction\n",
      "Everything should be created\n"
     ]
    },
    {
     "name": "stderr",
     "output_type": "stream",
     "text": [
      "127.0.0.1 - - [01/Dec/2022 23:08:16] \"POST /prediction/ HTTP/1.1\" 200 -\n",
      "127.0.0.1 - - [01/Dec/2022 23:08:16] \"GET /static/prediction.css HTTP/1.1\" 200 -\n"
     ]
    },
    {
     "name": "stdout",
     "output_type": "stream",
     "text": [
      "Post Method for Prediction\n",
      "Everything should be created\n"
     ]
    },
    {
     "name": "stderr",
     "output_type": "stream",
     "text": [
      "127.0.0.1 - - [01/Dec/2022 23:10:02] \"POST /prediction/ HTTP/1.1\" 200 -\n",
      "127.0.0.1 - - [01/Dec/2022 23:10:02] \"GET /static/prediction.css HTTP/1.1\" 200 -\n"
     ]
    },
    {
     "name": "stdout",
     "output_type": "stream",
     "text": [
      "Post Method for Prediction\n",
      "Everything should be created\n"
     ]
    },
    {
     "name": "stderr",
     "output_type": "stream",
     "text": [
      "127.0.0.1 - - [01/Dec/2022 23:12:42] \"POST /prediction/ HTTP/1.1\" 200 -\n",
      "127.0.0.1 - - [01/Dec/2022 23:12:42] \"GET /static/prediction.css HTTP/1.1\" 200 -\n"
     ]
    },
    {
     "name": "stdout",
     "output_type": "stream",
     "text": [
      "Post Method for Prediction\n",
      "Everything should be created\n"
     ]
    },
    {
     "name": "stderr",
     "output_type": "stream",
     "text": [
      "127.0.0.1 - - [01/Dec/2022 23:13:01] \"POST /prediction/ HTTP/1.1\" 200 -\n",
      "127.0.0.1 - - [01/Dec/2022 23:13:01] \"GET /static/prediction.css HTTP/1.1\" 200 -\n"
     ]
    },
    {
     "name": "stdout",
     "output_type": "stream",
     "text": [
      "Post Method for Prediction\n",
      "Everything should be created\n"
     ]
    }
   ],
   "source": [
    "job_value = 0\n",
    "\n",
    "#This shall be called when the button is clicked so that way all the calculations will be behind\n",
    "def making_Predictions_LR(totalSQFT):\n",
    "    job_value = 17628.368810532556 + float(totalSQFT) * 70.15563012\n",
    "    return '$' + str(round(job_value,2))\n",
    "\n",
    "def making_Predictions_RF(totalSQFT, variable1, variable2, variable3, variable4, variable5):\n",
    "    filename = 'random_forest.sav'\n",
    "    loaded_model = pickle.load(open(filename, 'rb'))\n",
    "    dataframe_making = {\n",
    "    \"Remodel Repair SQFT\" : [variable1],\n",
    "    \"Total New Add SQFT\" : [totalSQFT], \n",
    "    \"Total Valuation Remodel\": [variable2],\n",
    "    \"Number Of Floors\": [variable3],\n",
    "    \"Total Lot SQFT\": [variable4]\n",
    "    }\n",
    "    complete_feature = pd.DataFrame(dataframe_making)\n",
    "    result = loaded_model.predict(complete_feature)\n",
    "    return '$' + str(round(result[0],2))\n",
    "\n",
    "app = Flask(__name__, template_folder= 'templates', static_folder= 'static')\n",
    "\n",
    "# We could create the model first using a method here and have the model run the specific prediction on the value\n",
    "\n",
    "@app.route('/', methods = ['GET','POST'])\n",
    "def hello_world():\n",
    "    if request.method == 'POST':\n",
    "        print(\"Post Method for Hello World\")\n",
    "        return render_template(\"format.html\")\n",
    "    if request.method == 'GET':\n",
    "        print(\"Get Method for Hello World\")\n",
    "        return render_template(\"format.html\")\n",
    "\n",
    "@app.route('/prediction/', methods = ['GET', 'POST'])\n",
    "def predict_values():\n",
    "    if request.method == 'GET':\n",
    "        print(\"This never runs?\")\n",
    "        return redirect(url_for('hello_world'))\n",
    "    if request.method == 'POST':\n",
    "        print(\"Post Method for Prediction\")\n",
    "        if(not request.form.get(\"TotalSqft\")):\n",
    "            print(\"Returning back to Hello World\")\n",
    "            return redirect(url_for('hello_world'))\n",
    "        totalSqft = request.form.get(\"TotalSqft\")\n",
    "        \n",
    "        if(not request.form.get(\"Variable1\") or not request.form.get(\"Variable2\") or not request.form.get(\"Variable3\")\n",
    "        or not request.form.get(\"Variable4\") or not request.form.get(\"Variable5\")):\n",
    "            print(\"LR should be created\")\n",
    "            return_value_LR = making_Predictions_LR(totalSqft)\n",
    "            return render_template(\"prediction.html\", jobValue_LR = return_value_LR)\n",
    "        else:\n",
    "            print(\"Everything should be created\")\n",
    "            return_value_LR = making_Predictions_LR(totalSqft)\n",
    "            variable1 = request.form.get(\"Variable1\")\n",
    "            variable2 = request.form.get(\"Variable2\")\n",
    "            variable3 = request.form.get(\"Variable3\")\n",
    "            variable4 = request.form.get(\"Variable4\")\n",
    "            variable5 = request.form.get(\"Variable5\")\n",
    "            return_value_RF = making_Predictions_RF(totalSqft, variable1, variable2, variable3, variable4, variable5)\n",
    "            return render_template(\"prediction.html\", jobValue_LR = return_value_LR, jobValue_RF = return_value_RF)\n",
    "    \n",
    "if __name__ == '__main__':\n",
    "    app.run()"
   ]
  }
 ],
 "metadata": {
  "kernelspec": {
   "display_name": "Python 3.7.12 ('base')",
   "language": "python",
   "name": "python3"
  },
  "language_info": {
   "codemirror_mode": {
    "name": "ipython",
    "version": 3
   },
   "file_extension": ".py",
   "mimetype": "text/x-python",
   "name": "python",
   "nbconvert_exporter": "python",
   "pygments_lexer": "ipython3",
   "version": "3.7.12"
  },
  "orig_nbformat": 4,
  "vscode": {
   "interpreter": {
    "hash": "4eedd9fc418f36e2614580cbf31de2386521dabe9ec8a80375aa0fadc40a33bd"
   }
  }
 },
 "nbformat": 4,
 "nbformat_minor": 2
}
