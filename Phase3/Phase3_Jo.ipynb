{
 "cells": [
  {
   "cell_type": "markdown",
   "metadata": {},
   "source": [
    "In Phase 3, you will be building a data product from your Phase 2 models which would allow a user to interact with your models to gain insight into the data/problem statement you set out to solve. This could be as simple as allowing a user to input their own dataset for automatic analysis, or something more complicated tailored to your particular problem domain. The deliverables for Phase 3 will include your entire project code and documentation, as well as a short demo video showing your completed product.\n",
    "\n",
    "This phase involves building a data product that automates and parameterizes the process you established in Phases 1 and 2. This could be a web-application, mobile app, or enterprise application to allow users /clients to interact with it. Deliverables will include the code for your entire project, including the data product, complete with documentation, as well as a demo video showing off the product.\n",
    " \n",
    "1. Code [25 marks]: In your submission you must include complete code for Phases 1-3, fully documented, and with clear and succinct instructions on how to run your code with different datasets. The report should contain any relevant notes on how your models are tuned/evaluated (ie: p value is 0.0006 etc), and any recommendations related to your problem statement based on your analysis. \n",
    "    - [5 marks] for fully documented code and working instructions to demo/use your finished product \n",
    "    - [10 marks] for relevant notes on how you specifically used the models from phase 2 (which models did your product end up using, tuning of any relevant parameters, etc) \n",
    "    - [10 marks] for recommendations related to your problem statement based on your analysis (what can users learn from your product, how does it help them solve problems related to your problem statement, other ideas for how to extend your project, or other avenues that could be explored related to the problem) \n",
    "\n",
    "\n",
    "2. Demo [25 marks]: In addition to your code, submit a short video pitch/presentation (no more than 5 minutes in length), giving a brief demo of your product, how it is used, and what information people can learn from it. \n",
    "    - [5 points] for showing a working user-interface (not just code you would expect a user to run) \n",
    "    - [5 points] for showing how a user could input their own data (uploading their own datasets, filling out fields in your GUI, etc) \n",
    "    - [15 points] for showing the feedback your product gives, explaining what it means, relevant manipulation/filtering of visualizations, and how a user could use it to help them solve a problem/answer a question."
   ]
  }
 ],
 "metadata": {
  "kernelspec": {
   "display_name": "Python 3.7.12 ('base')",
   "language": "python",
   "name": "python3"
  },
  "language_info": {
   "name": "python",
   "version": "3.7.12"
  },
  "orig_nbformat": 4,
  "vscode": {
   "interpreter": {
    "hash": "4eedd9fc418f36e2614580cbf31de2386521dabe9ec8a80375aa0fadc40a33bd"
   }
  }
 },
 "nbformat": 4,
 "nbformat_minor": 2
}
