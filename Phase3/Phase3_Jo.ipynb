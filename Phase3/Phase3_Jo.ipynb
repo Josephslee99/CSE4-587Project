{
 "cells": [
  {
   "cell_type": "markdown",
   "metadata": {},
   "source": [
    "In Phase 3, you will be building a data product from your Phase 2 models which would allow a user to interact with your models to gain insight into the data/problem statement you set out to solve. This could be as simple as allowing a user to input their own dataset for automatic analysis, or something more complicated tailored to your particular problem domain. The deliverables for Phase 3 will include your entire project code and documentation, as well as a short demo video showing your completed product.\n",
    "\n",
    "This phase involves building a data product that automates and parameterizes the process you established in Phases 1 and 2. This could be a web-application, mobile app, or enterprise application to allow users /clients to interact with it. Deliverables will include the code for your entire project, including the data product, complete with documentation, as well as a demo video showing off the product.\n",
    " \n",
    "1. Code [25 marks]: In your submission you must include complete code for Phases 1-3, fully documented, and with clear and succinct instructions on how to run your code with different datasets. The report should contain any relevant notes on how your models are tuned/evaluated (ie: p value is 0.0006 etc), and any recommendations related to your problem statement based on your analysis. \n",
    "    - [5 marks] for fully documented code and working instructions to demo/use your finished product \n",
    "    - [10 marks] for relevant notes on how you specifically used the models from phase 2 (which models did your product end up using, tuning of any relevant parameters, etc) \n",
    "    - [10 marks] for recommendations related to your problem statement based on your analysis (what can users learn from your product, how does it help them solve problems related to your problem statement, other ideas for how to extend your project, or other avenues that could be explored related to the problem) \n",
    "\n",
    "\n",
    "2. Demo [25 marks]: In addition to your code, submit a short video pitch/presentation (no more than 5 minutes in length), giving a brief demo of your product, how it is used, and what information people can learn from it. \n",
    "    - [5 points] for showing a working user-interface (not just code you would expect a user to run) \n",
    "    - [5 points] for showing how a user could input their own data (uploading their own datasets, filling out fields in your GUI, etc) \n",
    "    - [15 points] for showing the feedback your product gives, explaining what it means, relevant manipulation/filtering of visualizations, and how a user could use it to help them solve a problem/answer a question."
   ]
  },
  {
   "cell_type": "code",
   "execution_count": 1,
   "metadata": {},
   "outputs": [],
   "source": [
    "from flask import Flask\n",
    "from flask import render_template, request"
   ]
  },
  {
   "cell_type": "code",
   "execution_count": 2,
   "metadata": {},
   "outputs": [],
   "source": [
    "# Different methods for internal functioning\n",
    "def plotting_users_data(totalSQFT, var1, var2, var3, var4, var5, var6):\n",
    "    \n",
    "\n",
    "\n",
    "\n",
    "    return 0"
   ]
  },
  {
   "cell_type": "code",
   "execution_count": 3,
   "metadata": {},
   "outputs": [],
   "source": [
    "#This shall be called when the button is clicked so that way all the calculations will be behind\n",
    "def making_Predictions(totalSQFT, var1, var2, var3, var4, var5, var6):\n",
    "    \n",
    "\n",
    "\n",
    "\n",
    "\n",
    "    return 850"
   ]
  },
  {
   "cell_type": "code",
   "execution_count": 4,
   "metadata": {},
   "outputs": [
    {
     "name": "stdout",
     "output_type": "stream",
     "text": [
      " * Serving Flask app \"__main__\" (lazy loading)\n",
      " * Environment: production\n",
      "\u001b[31m   WARNING: This is a development server. Do not use it in a production deployment.\u001b[0m\n",
      "\u001b[2m   Use a production WSGI server instead.\u001b[0m\n",
      " * Debug mode: off\n"
     ]
    },
    {
     "name": "stderr",
     "output_type": "stream",
     "text": [
      " * Running on http://127.0.0.1:5000/ (Press CTRL+C to quit)\n"
     ]
    }
   ],
   "source": [
    "app = Flask(__name__, template_folder= 'templates')\n",
    "\n",
    "@app.route('/', methods = ['GET', 'POST'])\n",
    "def hello_world():\n",
    "    if request.method == 'POST':\n",
    "        totalSqft = request.form['Insert Total SQFT']\n",
    "        Variable1 = request.form['Variable1']\n",
    "        Variable2 = request.form['Variable2']\n",
    "        Variable3 = request.form['Variable3']\n",
    "        Variable4 = request.form['Variable4']\n",
    "        Variable5 = request.form['Variable5']\n",
    "        Variable6 = request.form['Variable6']\n",
    "        job_value = making_Predictions(totalSqft, Variable1, Variable2, Variable3, Variable4, Variable5, Variable6)\n",
    "        print(job_value)\n",
    "        return render_template(\"format.html\", form_data = job_value)\n",
    "    if request.method == 'GET':\n",
    "        return render_template(\"format.html\")\n",
    "\n",
    "@app.route('/prediction/')\n",
    "def predict_values():\n",
    "    return render_template(\"prediction.html\")\n",
    "\n",
    "if __name__ == '__main__':\n",
    "    app.run()\n"
   ]
  },
  {
   "cell_type": "code",
   "execution_count": null,
   "metadata": {},
   "outputs": [],
   "source": []
  }
 ],
 "metadata": {
  "kernelspec": {
   "display_name": "Python 3.9.7 ('base')",
   "language": "python",
   "name": "python3"
  },
  "language_info": {
   "codemirror_mode": {
    "name": "ipython",
    "version": 3
   },
   "file_extension": ".py",
   "mimetype": "text/x-python",
   "name": "python",
   "nbconvert_exporter": "python",
   "pygments_lexer": "ipython3",
   "version": "3.9.7"
  },
  "orig_nbformat": 4,
  "vscode": {
   "interpreter": {
    "hash": "d23624b13311fb1af1c90e93df5b4884b185f1d04f2264343d59e90a86c3d0b7"
   }
  }
 },
 "nbformat": 4,
 "nbformat_minor": 2
}
