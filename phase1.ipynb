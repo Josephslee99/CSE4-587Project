{
 "cells": [
  {
   "cell_type": "markdown",
   "metadata": {},
   "source": [
    "# Phase 1\n",
    "---\n",
    "## Topics\n",
    "- Healthcare\n",
    "- Twitter Trends: Could report on issues discussed by the people vs gov officials\n",
    "    - [Congress on Social Media](https://www.pewresearch.org/internet/dataset/congress-on-social-media-2015-2020/)\n",
    "    - [American Trends Panel Wave 90](https://www.pewresearch.org/internet/dataset/american-trends-panel-wave-90/)\n",
    "\n"
   ]
  }
 ],
 "metadata": {
  "kernelspec": {
   "display_name": "Python 3.10.7 64-bit (microsoft store)",
   "language": "python",
   "name": "python3"
  },
  "language_info": {
   "name": "python",
   "version": "3.10.7"
  },
  "orig_nbformat": 4,
  "vscode": {
   "interpreter": {
    "hash": "5649a8488d225c29af94cb2e57de0faed6ba0e1c9960bb449a073700f446d8ba"
   }
  }
 },
 "nbformat": 4,
 "nbformat_minor": 2
}
