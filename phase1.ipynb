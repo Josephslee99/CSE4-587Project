{
 "cells": [
  {
   "cell_type": "markdown",
   "metadata": {},
   "source": [
    "# Phase 1\n",
    "---\n",
    "\n",
    "Deliverables\n",
    "---\n",
    "1. Problem Statement: Form a title and problem statement that clearly state the problem\n",
    "and questions you are trying to answer. Additionally:\n",
    "    - Discuss the background of the problem leading to your objectives.\n",
    "Why is it a significant problem?\n",
    "    - Explain the potential of your project to contribute to your problem\n",
    "domain. Discuss why this contribution is crucial?\n",
    "2. Data Sources : Collect your data. Your data can come from multiple sources.\n",
    "    - For example, Medical, Bank, sports, health, Kaggle, Amazon reviews, Twitter, Youtube, Reddit, etc. \n",
    "    - This data has to be large enough for the data analysis to yield significance. At least 2000 rows.\n",
    "3. Data Cleaning/Processing: Your dataset has to be cleaned and properly\n",
    "processed. Please submit a report where you explain each processing/cleaning step\n",
    "properly. We expect to see comments and markup for this step. \n",
    "    - In order to get full marks you must clearly document 7 (10 for 587 students) distinct processing/cleaning operations.\n",
    "4. Exploratory Data Analysis (EDA): Perform exploratory data analysis as\n",
    "defined in the NIST publication [2] and as originally described by John Tukey [4,5].\n",
    "Record the outcomes and what you learned and how you will use this information.\n",
    "    - For example, in choosing features (columns) and dropping columns, and in short feature engineering. \n",
    "    - You need to demonstrate 7 (10 for 587 students) different, significant and relevant EDA operations and describe how you used these to process the data sets further to provision them for downstream modeling and analytics. Figures and tables should be included where relevant.\n"
   ]
  },
  {
   "cell_type": "markdown",
   "metadata": {},
   "source": [
    "Topics\n",
    "---\n",
    "- Healthcare\n",
    "- Social Trends on News & Politics: Could report on issues discussed by the people vs gov officials\n",
    "    - [Congress on Social Media](https://www.pewresearch.org/internet/dataset/congress-on-social-media-2015-2020/)\n",
    "        - Congress on Social Media 2015-2020\n",
    "    - [American Trends Panel Wave 90](https://www.pewresearch.org/internet/dataset/american-trends-panel-wave-90/)\n",
    "        - Topics: Twitter news attitudes\n",
    "    - [American Trends Panel Wave 87](https://www.pewresearch.org/politics/dataset/american-trends-panel-wave-87/)\n",
    "        - Topic: Current political news and topics\n",
    "- COVID19: Find correlation between COVID data and social media trends\n",
    "    - [COVID-19 Daily Counts of Cases, Hospitalizations, and Deaths](https://data.cityofnewyork.us/Health/COVID-19-Daily-Counts-of-Cases-Hospitalizations-an/rc75-m7u3)\n",
    "        - Daily count of NYC residents who tested positive for SARS-CoV-2, who were hospitalized with COVID-19, and deaths among COVID-19 patients\n",
    "        - Note: Dataset currently pulls from https://raw.githubusercontent.com/nychealth/coronavirus-data/master/trends/data-by-day.csv on a daily basis\n",
    "    - [New York State Statewide COVID-19 Testing](https://health.data.ny.gov/Health/New-York-State-Statewide-COVID-19-Testing/xdss-u53e)\n",
    "        - Information on the number of tests of individuals for COVID-19 infection performed in New York State beginning March 1, 2020\n",
    "    - [American Trends Panel Wave 74](https://www.pewresearch.org/internet/dataset/american-trends-panel-wave-74/)\n",
    "        - Topics: Online harassment, race relations, COVID-19\n",
    "    - [American Trends Panel Wave 70](https://www.pewresearch.org/internet/dataset/american-trends-panel-wave-70/)\n",
    "        - Topics: Religion in public life, social media’s role in politics and society, COVID-19 contact tracing\n",
    "        \n",
    "*Sources from pew research and data.gov*"
   ]
  },
  {
   "cell_type": "markdown",
   "metadata": {},
   "source": []
  }
 ],
 "metadata": {
  "kernelspec": {
   "display_name": "Python 3.10.7 64-bit (microsoft store)",
   "language": "python",
   "name": "python3"
  },
  "language_info": {
   "name": "python",
   "version": "3.10.7"
  },
  "orig_nbformat": 4,
  "vscode": {
   "interpreter": {
    "hash": "5649a8488d225c29af94cb2e57de0faed6ba0e1c9960bb449a073700f446d8ba"
   }
  }
 },
 "nbformat": 4,
 "nbformat_minor": 2
}
