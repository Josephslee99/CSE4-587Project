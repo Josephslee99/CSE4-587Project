{
 "cells": [
  {
   "cell_type": "code",
   "execution_count": 14,
   "metadata": {},
   "outputs": [],
   "source": [
    "import matplotlib.pyplot as plt\n",
    "import numpy as np\n",
    "import pandas as pd\n",
    "\n",
    "# Original Dataset transformed to reduce size.\n",
    "data = pd.read_csv('Dataset/Issued_Construction_Permits.csv').drop(['Link','Location','Contractor Address 1','Contractor Address 2','Applicant Phone','Applicant Address 1','Applicant Address 2'],axis=1)"
   ]
  },
  {
   "cell_type": "code",
   "execution_count": 22,
   "metadata": {},
   "outputs": [],
   "source": [
    "data = data[data['Permit Class Mapped'] == 'Residential']\n",
    "data = data[data['Total Job Valuation'] > 0]\n",
    "data = data[data['Calendar Year Issued'] >= 2017]\n",
    "\n",
    "data.to_csv('Dataset/ICP_Residential_Austin2017up.csv',index=False)"
   ]
  },
  {
   "cell_type": "code",
   "execution_count": 23,
   "metadata": {},
   "outputs": [
    {
     "name": "stdout",
     "output_type": "stream",
     "text": [
      "<class 'pandas.core.frame.DataFrame'>\n",
      "Int64Index: 55976 entries, 746 to 2155982\n",
      "Data columns (total 61 columns):\n",
      " #   Column                        Non-Null Count  Dtype  \n",
      "---  ------                        --------------  -----  \n",
      " 0   Permit Type                   55976 non-null  object \n",
      " 1   Permit Type Desc              55976 non-null  object \n",
      " 2   Permit Num                    55976 non-null  object \n",
      " 3   Permit Class Mapped           55976 non-null  object \n",
      " 4   Permit Class                  55976 non-null  object \n",
      " 5   Work Class                    55976 non-null  object \n",
      " 6   Condominium                   55976 non-null  object \n",
      " 7   Project Name                  55976 non-null  object \n",
      " 8   Description                   55975 non-null  object \n",
      " 9   TCAD ID                       55821 non-null  object \n",
      " 10  Property Legal Description    47815 non-null  object \n",
      " 11  Applied Date                  55974 non-null  object \n",
      " 12  Issued Date                   55976 non-null  object \n",
      " 13  Day Issued                    55976 non-null  object \n",
      " 14  Calendar Year Issued          55976 non-null  int64  \n",
      " 15  Fiscal Year Issued            55976 non-null  int64  \n",
      " 16  Issued In Last 30 Days        55976 non-null  object \n",
      " 17  Issuance Method               55976 non-null  object \n",
      " 18  Status Current                55976 non-null  object \n",
      " 19  Status Date                   55976 non-null  object \n",
      " 20  Expires Date                  55976 non-null  object \n",
      " 21  Completed Date                41352 non-null  object \n",
      " 22  Total Existing Bldg SQFT      2449 non-null   float64\n",
      " 23  Remodel Repair SQFT           26709 non-null  float64\n",
      " 24  Total New Add SQFT            33457 non-null  float64\n",
      " 25  Total Valuation Remodel       27812 non-null  float64\n",
      " 26  Total Job Valuation           55976 non-null  float64\n",
      " 27  Number Of Floors              55675 non-null  float64\n",
      " 28  Housing Units                 55739 non-null  float64\n",
      " 29  Building Valuation            63 non-null     float64\n",
      " 30  Building Valuation Remodel    27966 non-null  float64\n",
      " 31  Electrical Valuation          63 non-null     float64\n",
      " 32  Electrical Valuation Remodel  27966 non-null  float64\n",
      " 33  Mechanical Valuation          63 non-null     float64\n",
      " 34  Mechanical Valuation Remodel  27966 non-null  float64\n",
      " 35  Plumbing Valuation            63 non-null     float64\n",
      " 36  Plumbing Valuation Remodel    27968 non-null  float64\n",
      " 37  MedGas Valuation              0 non-null      float64\n",
      " 38  MedGas Valuation Remodel      59 non-null     float64\n",
      " 39  Original Address 1            55976 non-null  object \n",
      " 40  Original City                 55976 non-null  object \n",
      " 41  Original State                55976 non-null  object \n",
      " 42  Original Zip                  55976 non-null  float64\n",
      " 43  Council District              55806 non-null  float64\n",
      " 44  Jurisdiction                  55910 non-null  object \n",
      " 45  Project ID                    55976 non-null  int64  \n",
      " 46  Master Permit Num             55360 non-null  float64\n",
      " 47  Latitude                      55976 non-null  float64\n",
      " 48  Longitude                     55976 non-null  float64\n",
      " 49  Contractor Trade              55771 non-null  object \n",
      " 50  Contractor Company Name       52339 non-null  object \n",
      " 51  Contractor Full Name          43304 non-null  object \n",
      " 52  Contractor Phone              55559 non-null  object \n",
      " 53  Contractor City               55587 non-null  object \n",
      " 54  Contractor Zip                53794 non-null  object \n",
      " 55  Applicant Full Name           42559 non-null  object \n",
      " 56  Applicant Organization        51729 non-null  object \n",
      " 57  Applicant City                54789 non-null  object \n",
      " 58  Applicant Zip                 53039 non-null  object \n",
      " 59  Certificate Of Occupancy      55976 non-null  object \n",
      " 60  Total Lot SQFT                33335 non-null  float64\n",
      "dtypes: float64(23), int64(3), object(35)\n",
      "memory usage: 26.5+ MB\n"
     ]
    }
   ],
   "source": [
    "data.shape\n",
    "data.info()"
   ]
  },
  {
   "cell_type": "code",
   "execution_count": null,
   "metadata": {},
   "outputs": [],
   "source": []
  }
 ],
 "metadata": {
  "kernelspec": {
   "display_name": "Python 3.9.7 ('base')",
   "language": "python",
   "name": "python3"
  },
  "language_info": {
   "codemirror_mode": {
    "name": "ipython",
    "version": 3
   },
   "file_extension": ".py",
   "mimetype": "text/x-python",
   "name": "python",
   "nbconvert_exporter": "python",
   "pygments_lexer": "ipython3",
   "version": "3.9.7"
  },
  "orig_nbformat": 4,
  "vscode": {
   "interpreter": {
    "hash": "d23624b13311fb1af1c90e93df5b4884b185f1d04f2264343d59e90a86c3d0b7"
   }
  }
 },
 "nbformat": 4,
 "nbformat_minor": 2
}
