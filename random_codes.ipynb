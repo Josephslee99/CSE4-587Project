{
 "cells": [
  {
   "cell_type": "code",
   "execution_count": 1,
   "metadata": {},
   "outputs": [],
   "source": [
    "import pandas as pd\n"
   ]
  },
  {
   "cell_type": "code",
   "execution_count": 6,
   "metadata": {},
   "outputs": [
    {
     "name": "stderr",
     "output_type": "stream",
     "text": [
      "c:\\Users\\david\\Anaconda3\\lib\\site-packages\\IPython\\core\\interactiveshell.py:3049: DtypeWarning: Columns (23) have mixed types. Specify dtype option on import or set low_memory=False.\n",
      "  interactivity=interactivity, compiler=compiler, result=result)\n"
     ]
    },
    {
     "data": {
      "text/plain": [
       "0                            GAS MEAS STATION\n",
       "1                      COMMERCIAL VACANT LAND\n",
       "2                     RESIDENTIAL VACANT LAND\n",
       "3                     RESIDENTIAL VACANT LAND\n",
       "4                      INDUSTRIAL VACANT LAND\n",
       "5                         TWO FAMILY DWELLING\n",
       "6                         ONE FAMILY DWELLING\n",
       "7                      COMMERCIAL VACANT LAND\n",
       "8                     RESIDENTIAL VACANT LAND\n",
       "9                                   APARTMENT\n",
       "10                     COMMERCIAL VACANT LAND\n",
       "11                  COLLEGES AND UNIVERSITIES\n",
       "12                    RESIDENTIAL VACANT LAND\n",
       "13                      NON-CEILING RAILROADS\n",
       "14                    RESIDENTIAL VACANT LAND\n",
       "15                        TWO FAMILY DWELLING\n",
       "16                    RESIDENTIAL VACANT LAND\n",
       "17                           GAS MEAS STATION\n",
       "18              TELEPHONE - SPECIAL FRANCHISE\n",
       "19                              COM VAC W/IMP\n",
       "20                     COMMERCIAL VACANT LAND\n",
       "21                     INDUSTRIAL VACANT LAND\n",
       "22                                 BILLBOARDS\n",
       "23                     COMMERCIAL VACANT LAND\n",
       "24                        ONE FAMILY DWELLING\n",
       "25                     COMMERCIAL VACANT LAND\n",
       "26                        ONE FAMILY DWELLING\n",
       "27                                  HOSPITALS\n",
       "28              TELEPHONE - SPECIAL FRANCHISE\n",
       "29       OTHER STORAGE & WAREHOUSE FACILITIES\n",
       "                         ...                 \n",
       "93832                     ONE FAMILY DWELLING\n",
       "93833                           COM VAC W/IMP\n",
       "93834                           COM VAC W/IMP\n",
       "93835                     ONE FAMILY DWELLING\n",
       "93836                     ONE FAMILY DWELLING\n",
       "93837                     TWO FAMILY DWELLING\n",
       "93838                 RESIDENTIAL VACANT LAND\n",
       "93839                   THREE FAMILY DWELLING\n",
       "93840                     ONE FAMILY DWELLING\n",
       "93841                     TWO FAMILY DWELLING\n",
       "93842                     ONE FAMILY DWELLING\n",
       "93843                     ONE FAMILY DWELLING\n",
       "93844                     ONE FAMILY DWELLING\n",
       "93845                     ONE FAMILY DWELLING\n",
       "93846                     TWO FAMILY DWELLING\n",
       "93847                     TWO FAMILY DWELLING\n",
       "93848                     ONE FAMILY DWELLING\n",
       "93849                     TWO FAMILY DWELLING\n",
       "93850                     ONE FAMILY DWELLING\n",
       "93851                  COMMERCIAL VACANT LAND\n",
       "93852                     ONE FAMILY DWELLING\n",
       "93853                  INDUSTRIAL VACANT LAND\n",
       "93854                     TWO FAMILY DWELLING\n",
       "93855                     TWO FAMILY DWELLING\n",
       "93856                               APARTMENT\n",
       "93857                         OFFICE BUILDING\n",
       "93858                 RESIDENTIAL VACANT LAND\n",
       "93859                     TWO FAMILY DWELLING\n",
       "93860                     ONE FAMILY DWELLING\n",
       "93861                     TWO FAMILY DWELLING\n",
       "Name: Property Class Description, Length: 93862, dtype: object"
      ]
     },
     "execution_count": 6,
     "metadata": {},
     "output_type": "execute_result"
    }
   ],
   "source": [
    "dataset = pd.read_csv('2019-2020_Assessment_Roll - Copy.csv')\n",
    "count(dataset['Property Class Description']"
   ]
  }
 ],
 "metadata": {
  "kernelspec": {
   "display_name": "Python 3.7.3 ('base')",
   "language": "python",
   "name": "python3"
  },
  "language_info": {
   "codemirror_mode": {
    "name": "ipython",
    "version": 3
   },
   "file_extension": ".py",
   "mimetype": "text/x-python",
   "name": "python",
   "nbconvert_exporter": "python",
   "pygments_lexer": "ipython3",
   "version": "3.7.3"
  },
  "orig_nbformat": 4,
  "vscode": {
   "interpreter": {
    "hash": "4eedd9fc418f36e2614580cbf31de2386521dabe9ec8a80375aa0fadc40a33bd"
   }
  }
 },
 "nbformat": 4,
 "nbformat_minor": 2
}
